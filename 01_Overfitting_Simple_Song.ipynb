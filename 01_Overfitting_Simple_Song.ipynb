{
 "cells": [
  {
   "cell_type": "markdown",
   "metadata": {},
   "source": [
    "# Overfitting Example\n",
    "We try to overfit a single simple song with a encoder-decoder LSTM.\n"
   ]
  },
  {
   "cell_type": "code",
   "execution_count": 4,
   "metadata": {},
   "outputs": [],
   "source": [
    "from music21 import stream, note, metadata\n",
    "\n",
    "def get():\n",
    "    piece = stream.Score()\n",
    "    p1 = stream.Part()\n",
    "    p1.id = 'part1'\n",
    "\n",
    "    notes = [note.Note('C4', type='quarter'),\n",
    "             note.Note('D4', type='quarter'),\n",
    "             note.Note('E4', type='quarter'),\n",
    "             note.Note('F4', type='quarter'),\n",
    "             note.Note('G4', type='half'),\n",
    "             note.Note('G4', type='half'),\n",
    "    \n",
    "             note.Note('A4', type='quarter'),\n",
    "             note.Note('A4', type='quarter'),\n",
    "             note.Note('A4', type='quarter'),\n",
    "             note.Note('A4', type='quarter'),\n",
    "             note.Note('G4', type='half'),\n",
    "\n",
    "             note.Note('A4', type='quarter'),\n",
    "             note.Note('A4', type='quarter'),\n",
    "             note.Note('A4', type='quarter'),\n",
    "             note.Note('A4', type='quarter'),\n",
    "             note.Note('G4', type='half'),\n",
    "\n",
    "             note.Note('F4', type='quarter'),\n",
    "             note.Note('F4', type='quarter'),\n",
    "             note.Note('F4', type='quarter'),\n",
    "             note.Note('F4', type='quarter'),\n",
    "             note.Note('E4', type='half'),\n",
    "             note.Note('E4', type='half'),\n",
    "\n",
    "             note.Note('D4', type='quarter'),\n",
    "             note.Note('D4', type='quarter'),\n",
    "             note.Note('D4', type='quarter'),\n",
    "             note.Note('D4', type='quarter'),\n",
    "             note.Note('C4', type='half')\n",
    "            ]\n",
    "    p1.append(notes)\n",
    "    piece.insert(0, metadata.Metadata())\n",
    "    piece.metadata.title = 'Alle meine Entchen'\n",
    "    piece.insert(0, p1)\n",
    "    return piece, notes"
   ]
  },
  {
   "cell_type": "code",
   "execution_count": 5,
   "metadata": {},
   "outputs": [
    {
     "data": {
      "text/html": [
       "\n",
       "                <div id='midiPlayerDiv1234'></div>\n",
       "                <link rel=\"stylesheet\" href=\"//cuthbertLab.github.io/music21j/css/m21.css\"\n",
       "                    type=\"text/css\" />\n",
       "                <script>\n",
       "                require.config({\n",
       "                    paths: {'music21': '//cuthbertLab.github.io/music21j/src/music21'}\n",
       "                });\n",
       "                require(['music21'], function() {\n",
       "                               mp = new music21.miditools.MidiPlayer();\n",
       "                               mp.addPlayer('#midiPlayerDiv1234');\n",
       "                               mp.base64Load('data:audio/midi;base64,TVRoZAAAAAYAAQABBABNVHJrAAABAAD/AwAA4ABAAJA8WogAgDwAAJA+WogAgD4AAJBAWogAgEAAAJBBWogAgEEAAJBDWpAAgEMAAJBDWpAAgEMAAJBFWogAgEUAAJBFWogAgEUAAJBFWogAgEUAAJBFWogAgEUAAJBDWpAAgEMAAJBFWogAgEUAAJBFWogAgEUAAJBFWogAgEUAAJBFWogAgEUAAJBDWpAAgEMAAJBBWogAgEEAAJBBWogAgEEAAJBBWogAgEEAAJBBWogAgEEAAJBAWpAAgEAAAJBAWpAAgEAAAJA+WogAgD4AAJA+WogAgD4AAJA+WogAgD4AAJA+WogAgD4AAJA8WpAAgDwAiAD/LwA=');\n",
       "                        });\n",
       "                </script>"
      ],
      "text/plain": [
       "<IPython.core.display.HTML object>"
      ]
     },
     "metadata": {},
     "output_type": "execute_result"
    }
   ],
   "source": [
    "piece, notes = get()\n",
    "piece.show('midi')\n",
    "#piece.show() # doesn't work inside the notebook for me"
   ]
  },
  {
   "cell_type": "markdown",
   "metadata": {},
   "source": [
    "![alle.PNG](attachment:alle.PNG)"
   ]
  },
  {
   "cell_type": "markdown",
   "metadata": {},
   "source": [
    "# Part 1: Encoding & Data Preparation\n",
    "\n",
    "We use 128 midi notes and 3 additional symbols (Start, Stop, EndOfFrame). Therefore we encode our notes as 131-dimensional vector.\n",
    "\n",
    "* The encoder get's hald of the song as input\n",
    "* the decoder has to produce the missing half\n",
    "* EndOfFrame (EOF) symbol is currently not used"
   ]
  },
  {
   "cell_type": "code",
   "execution_count": 8,
   "metadata": {},
   "outputs": [],
   "source": [
    "import music21\n",
    "from music21 import pitch, interval, stream\n",
    "import numpy as np"
   ]
  },
  {
   "cell_type": "code",
   "execution_count": 11,
   "metadata": {},
   "outputs": [],
   "source": [
    "def generateInput(notes, split=0.5, delta=0.25):\n",
    "    splitIndex = int(len(notes)*split)\n",
    "    input = notes[:splitIndex]\n",
    "    target = ['start'] + notes[splitIndex:] + ['stop']\n",
    "\n",
    "    encoderInput = encode(input, delta)\n",
    "    decoderInput = encode(target, delta)\n",
    "\n",
    "    # decoder_target_data will be ahead by one timestep and will not include the start character.\n",
    "    decoderTarget = np.roll(decoderInput, -1, axis=0)\n",
    "    decoderTarget[-1, :] = 0\n",
    "    decoderTarget[-1, getStopIndex()] = 1\n",
    "\n",
    "    return encoderInput, decoderInput, decoderTarget\n",
    "\n",
    "def encode(notes, delta):\n",
    "    '''\n",
    "\n",
    "        :param notes: List of notes (single Part of a piece)\n",
    "        :param delta: smallest note (quantization)\n",
    "        :return: 2d array with shape (131, timesteps)\n",
    "    '''\n",
    "\n",
    "    for x in notes:\n",
    "        if type(x) == music21.note.Note:\n",
    "            assert x.quarterLength >= delta\n",
    "\n",
    "    vectorSize = getTotalTokens()\n",
    "\n",
    "    totalTimesteps = 0\n",
    "    for x in notes:\n",
    "        if type(x) == music21.note.Note:\n",
    "            totalTimesteps += x.quarterLength / delta\n",
    "        elif x is 'start':\n",
    "            totalTimesteps += 1\n",
    "        elif x is 'stop':\n",
    "            totalTimesteps += 1\n",
    "    totalTimesteps = int(totalTimesteps) \n",
    "\n",
    "    x = np.zeros((totalTimesteps, vectorSize ))\n",
    "\n",
    "    currentTimestep = 0\n",
    "    for n in notes:\n",
    "        if n is 'start':\n",
    "            x[currentTimestep:currentTimestep + 1, getStartIndex()] = 1\n",
    "            currentTimestep += 1\n",
    "\n",
    "        elif n is 'stop':\n",
    "            x[currentTimestep:currentTimestep + 1, getStopIndex()] = 1\n",
    "            currentTimestep += 1\n",
    "\n",
    "        elif (n.isNote):\n",
    "            stepsOn = int(n.quarterLength * (1 / delta))  # todo: rounding issues?\n",
    "            end = currentTimestep + stepsOn\n",
    "\n",
    "            x[currentTimestep:end, getNoteIndex(n)] = 1\n",
    "            currentTimestep = end\n",
    "\n",
    "        elif n.isChord:\n",
    "            raise NotImplementedError  # no chords at the moment\n",
    "        else:\n",
    "            raise NotImplementedError\n",
    "\n",
    "    return x\n",
    "\n",
    "def getTotalTokens():\n",
    "    return 131  # 128 midi notes + Start + Stop + EndOfFrame\n",
    "\n",
    "\n",
    "def getNoteIndex(n):\n",
    "    # todo: tied?\n",
    "    return n.pitch.midi\n",
    "\n",
    "def getStartIndex():\n",
    "    return 128\n",
    "\n",
    "def getStopIndex():\n",
    "    return 129\n",
    "\n",
    "def getEOFIndex():\n",
    "    return 130"
   ]
  },
  {
   "cell_type": "code",
   "execution_count": 10,
   "metadata": {},
   "outputs": [
    {
     "name": "stdout",
     "output_type": "stream",
     "text": [
      "encoderInput: (1, 16, 131)\n",
      "decoderInput: (1, 20, 131)\n",
      "decoderTarget: (1, 20, 131)\n"
     ]
    }
   ],
   "source": [
    "encoderInput, decoderInput, decoderTarget = generateInput(notes, delta=1)\n",
    "#print(encoderInput.shape, decoderInput.shape, decoderTarget.shape)\n",
    "encoderInput = encoderInput.reshape( (1,encoderInput.shape[0], encoderInput.shape[1]) )\n",
    "decoderInput = decoderInput.reshape( (1,decoderInput.shape[0], decoderInput.shape[1]) )\n",
    "decoderTarget = decoderTarget.reshape( (1,decoderTarget.shape[0], decoderTarget.shape[1]) )\n",
    "print(\"encoderInput:\", encoderInput.shape)\n",
    "print(\"decoderInput:\", decoderInput.shape)\n",
    "print(\"decoderTarget:\", decoderTarget.shape)"
   ]
  },
  {
   "cell_type": "markdown",
   "metadata": {},
   "source": [
    "# Part 2: Model definition & Training\n",
    "We use a encoder-decoder model from here: [https://blog.keras.io/a-ten-minute-introduction-to-sequence-to-sequence-learning-in-keras.html](https://blog.keras.io/a-ten-minute-introduction-to-sequence-to-sequence-learning-in-keras.html) "
   ]
  },
  {
   "cell_type": "code",
   "execution_count": 12,
   "metadata": {},
   "outputs": [],
   "source": [
    "num_encoder_tokens = 131\n",
    "num_decoder_tokens = num_encoder_tokens\n",
    "epochs = 50\n",
    "batch_size = 1\n",
    "hidden_state_size = 100\n",
    "\n",
    "encoder_input_data = encoderInput\n",
    "decoder_input_data = decoderInput\n",
    "decoder_target_data = decoderTarget\n"
   ]
  },
  {
   "cell_type": "code",
   "execution_count": 14,
   "metadata": {},
   "outputs": [
    {
     "name": "stderr",
     "output_type": "stream",
     "text": [
      "Using TensorFlow backend.\n"
     ]
    },
    {
     "name": "stdout",
     "output_type": "stream",
     "text": [
      "Epoch 1/50\n",
      "1/1 [==============================] - 2s 2s/step - loss: 4.8651\n",
      "Epoch 2/50\n",
      "1/1 [==============================] - 0s 46ms/step - loss: 4.7982\n",
      "Epoch 3/50\n",
      "1/1 [==============================] - 0s 52ms/step - loss: 4.7350\n",
      "Epoch 4/50\n",
      "1/1 [==============================] - 0s 24ms/step - loss: 4.6464\n",
      "Epoch 5/50\n",
      "1/1 [==============================] - 0s 23ms/step - loss: 4.4687\n",
      "Epoch 6/50\n",
      "1/1 [==============================] - 0s 42ms/step - loss: 3.9164\n",
      "Epoch 7/50\n",
      "1/1 [==============================] - 0s 37ms/step - loss: 2.9315\n",
      "Epoch 8/50\n",
      "1/1 [==============================] - 0s 25ms/step - loss: 2.3712\n",
      "Epoch 9/50\n",
      "1/1 [==============================] - 0s 23ms/step - loss: 2.0450\n",
      "Epoch 10/50\n",
      "1/1 [==============================] - 0s 25ms/step - loss: 1.8216\n",
      "Epoch 11/50\n",
      "1/1 [==============================] - 0s 26ms/step - loss: 1.7217\n",
      "Epoch 12/50\n",
      "1/1 [==============================] - 0s 23ms/step - loss: 1.6147\n",
      "Epoch 13/50\n",
      "1/1 [==============================] - 0s 24ms/step - loss: 1.5220\n",
      "Epoch 14/50\n",
      "1/1 [==============================] - 0s 23ms/step - loss: 1.3374\n",
      "Epoch 15/50\n",
      "1/1 [==============================] - 0s 25ms/step - loss: 1.2504\n",
      "Epoch 16/50\n",
      "1/1 [==============================] - 0s 26ms/step - loss: 1.1959\n",
      "Epoch 17/50\n",
      "1/1 [==============================] - 0s 25ms/step - loss: 1.2399\n",
      "Epoch 18/50\n",
      "1/1 [==============================] - 0s 24ms/step - loss: 1.0910\n",
      "Epoch 19/50\n",
      "1/1 [==============================] - 0s 24ms/step - loss: 1.0466\n",
      "Epoch 20/50\n",
      "1/1 [==============================] - 0s 24ms/step - loss: 0.9860\n",
      "Epoch 21/50\n",
      "1/1 [==============================] - 0s 22ms/step - loss: 1.0088\n",
      "Epoch 22/50\n",
      "1/1 [==============================] - 0s 27ms/step - loss: 0.9365\n",
      "Epoch 23/50\n",
      "1/1 [==============================] - 0s 22ms/step - loss: 0.9294\n",
      "Epoch 24/50\n",
      "1/1 [==============================] - 0s 27ms/step - loss: 0.8588\n",
      "Epoch 25/50\n",
      "1/1 [==============================] - 0s 27ms/step - loss: 0.8646\n",
      "Epoch 26/50\n",
      "1/1 [==============================] - 0s 60ms/step - loss: 0.8226\n",
      "Epoch 27/50\n",
      "1/1 [==============================] - 0s 27ms/step - loss: 0.8310\n",
      "Epoch 28/50\n",
      "1/1 [==============================] - 0s 38ms/step - loss: 0.7847\n",
      "Epoch 29/50\n",
      "1/1 [==============================] - 0s 42ms/step - loss: 0.8019\n",
      "Epoch 30/50\n",
      "1/1 [==============================] - 0s 30ms/step - loss: 0.7484\n",
      "Epoch 31/50\n",
      "1/1 [==============================] - 0s 33ms/step - loss: 0.7465\n",
      "Epoch 32/50\n",
      "1/1 [==============================] - 0s 43ms/step - loss: 0.7037\n",
      "Epoch 33/50\n",
      "1/1 [==============================] - 0s 27ms/step - loss: 0.7157\n",
      "Epoch 34/50\n",
      "1/1 [==============================] - 0s 28ms/step - loss: 0.6880\n",
      "Epoch 35/50\n",
      "1/1 [==============================] - 0s 31ms/step - loss: 0.7186\n",
      "Epoch 36/50\n",
      "1/1 [==============================] - 0s 29ms/step - loss: 0.6671\n",
      "Epoch 37/50\n",
      "1/1 [==============================] - 0s 24ms/step - loss: 0.6797\n",
      "Epoch 38/50\n",
      "1/1 [==============================] - 0s 38ms/step - loss: 0.6315\n",
      "Epoch 39/50\n",
      "1/1 [==============================] - 0s 35ms/step - loss: 0.6463\n",
      "Epoch 40/50\n",
      "1/1 [==============================] - 0s 25ms/step - loss: 0.6144\n",
      "Epoch 41/50\n",
      "1/1 [==============================] - 0s 38ms/step - loss: 0.6337\n",
      "Epoch 42/50\n",
      "1/1 [==============================] - 0s 23ms/step - loss: 0.6043\n",
      "Epoch 43/50\n",
      "1/1 [==============================] - 0s 25ms/step - loss: 0.6341\n",
      "Epoch 44/50\n",
      "1/1 [==============================] - 0s 26ms/step - loss: 0.5883\n",
      "Epoch 45/50\n",
      "1/1 [==============================] - 0s 23ms/step - loss: 0.5979\n",
      "Epoch 46/50\n",
      "1/1 [==============================] - 0s 42ms/step - loss: 0.5606\n",
      "Epoch 47/50\n",
      "1/1 [==============================] - 0s 27ms/step - loss: 0.5755\n",
      "Epoch 48/50\n",
      "1/1 [==============================] - 0s 27ms/step - loss: 0.5464\n",
      "Epoch 49/50\n",
      "1/1 [==============================] - 0s 25ms/step - loss: 0.5613\n",
      "Epoch 50/50\n",
      "1/1 [==============================] - 0s 31ms/step - loss: 0.5381\n"
     ]
    },
    {
     "data": {
      "text/plain": [
       "<keras.callbacks.History at 0x1f7bdce1080>"
      ]
     },
     "execution_count": 14,
     "metadata": {},
     "output_type": "execute_result"
    }
   ],
   "source": [
    "from keras.models import Model\n",
    "from keras.layers import Input, LSTM, Dense\n",
    "\n",
    "encoder_inputs = Input(shape=(None, num_encoder_tokens))\n",
    "encoder = LSTM(hidden_state_size, return_state=True)\n",
    "encoder_outputs, state_h, state_c = encoder(encoder_inputs)\n",
    "encoder_states = [state_h, state_c]\n",
    "\n",
    "decoder_inputs = Input(shape=(None, num_decoder_tokens))\n",
    "decoder_lstm = LSTM(hidden_state_size, return_sequences=True, return_state=True)\n",
    "decoder_outputs, _, _ = decoder_lstm(decoder_inputs, initial_state=encoder_states)\n",
    "decoder_dense = Dense(num_decoder_tokens, activation='softmax')\n",
    "decoder_outputs = decoder_dense(decoder_outputs)\n",
    "\n",
    "# Define the model that will turn\n",
    "# `encoder_input_data` & `decoder_input_data` into `decoder_target_data`\n",
    "model = Model([encoder_inputs, decoder_inputs], decoder_outputs)\n",
    "\n",
    "# Run training\n",
    "model.compile(optimizer='rmsprop', loss='categorical_crossentropy')\n",
    "model.fit([encoder_input_data, decoder_input_data], decoder_target_data,\n",
    "          batch_size=batch_size,\n",
    "          epochs=epochs,\n",
    "          validation_split=0)\n"
   ]
  },
  {
   "cell_type": "markdown",
   "metadata": {},
   "source": [
    "# Part 3: Inference\n",
    "* Use the trained model and predict the second ahlf of the training data\n",
    "* Represent the generated as a music21 piece in order to display and play it"
   ]
  },
  {
   "cell_type": "code",
   "execution_count": 15,
   "metadata": {},
   "outputs": [],
   "source": [
    "encoder_model = Model(encoder_inputs, encoder_states)\n",
    "\n",
    "decoder_state_input_h = Input(shape=(hidden_state_size,))\n",
    "decoder_state_input_c = Input(shape=(hidden_state_size,))\n",
    "decoder_states_inputs = [decoder_state_input_h, decoder_state_input_c]\n",
    "decoder_outputs, state_h, state_c = decoder_lstm(\n",
    "    decoder_inputs, initial_state=decoder_states_inputs)\n",
    "decoder_states = [state_h, state_c]\n",
    "decoder_outputs = decoder_dense(decoder_outputs)\n",
    "decoder_model = Model([decoder_inputs] + decoder_states_inputs,[decoder_outputs] + decoder_states)\n"
   ]
  },
  {
   "cell_type": "code",
   "execution_count": 20,
   "metadata": {},
   "outputs": [],
   "source": [
    "def decode_sequence(input_seq):\n",
    "\n",
    "    states_value = encoder_model.predict(input_seq)\n",
    "    # Generate empty target sequence of length 1.\n",
    "    target_seq = np.zeros((1, 1, num_decoder_tokens))\n",
    "    # Populate the first character of target sequence with the start character.\n",
    "    target_seq[0, 0, getStartIndex()] = 1.\n",
    "\n",
    "    stop_condition = False\n",
    "    decoded_sentence = []\n",
    "    while not stop_condition:\n",
    "        output_tokens, h, c = decoder_model.predict([target_seq] + states_value)\n",
    "\n",
    "        # Sample a token\n",
    "        sampled_token_index = np.argmax(output_tokens[0, -1, :])\n",
    "\n",
    "        sampled_char = sampled_token_index\n",
    "        #print(sampled_token_index)\n",
    "        decoded_sentence.append(sampled_char)\n",
    "\n",
    "        # todo: set max length\n",
    "        if (sampled_char == getStopIndex() or len(decoded_sentence) > 50):\n",
    "            stop_condition = True\n",
    "\n",
    "        # Update the target sequence (of length 1).\n",
    "        target_seq = np.zeros((1, 1, num_decoder_tokens))\n",
    "        target_seq[0, 0, sampled_token_index] = 1.\n",
    "\n",
    "        # Update states\n",
    "        states_value = [h, c]\n",
    "\n",
    "    return decoded_sentence"
   ]
  },
  {
   "cell_type": "code",
   "execution_count": 21,
   "metadata": {},
   "outputs": [],
   "source": [
    "def decodeSequence(seq, input=None):\n",
    "    #todo: delta & länge beachten\n",
    "    #todo: gebunden\n",
    "    notes = []\n",
    "    for i in range(0, len(seq)):\n",
    "        if seq[i] < 129:\n",
    "            n = music21.note.Note()\n",
    "            n.pitch.midi = seq[i]\n",
    "            notes.append(n)\n",
    "\n",
    "    if input is not None:\n",
    "        notes = input + notes\n",
    "\n",
    "    piece = stream.Score()\n",
    "    p1 = stream.Part()\n",
    "    p1.id = 'part1'\n",
    "\n",
    "    p1.append(notes)\n",
    "    piece.insert(0, music21.metadata.Metadata())\n",
    "    piece.metadata.title = 'Title'\n",
    "    piece.insert(0, p1)\n",
    "    return piece"
   ]
  },
  {
   "cell_type": "code",
   "execution_count": 22,
   "metadata": {},
   "outputs": [
    {
     "name": "stdout",
     "output_type": "stream",
     "text": [
      "-\n",
      "Input sentence: [[[0. 0. 0. ... 0. 0. 0.]\n",
      "  [0. 0. 0. ... 0. 0. 0.]\n",
      "  [0. 0. 0. ... 0. 0. 0.]\n",
      "  ...\n",
      "  [0. 0. 0. ... 0. 0. 0.]\n",
      "  [0. 0. 0. ... 0. 0. 0.]\n",
      "  [0. 0. 0. ... 0. 0. 0.]]]\n",
      "Decoded sentence: [69, 69, 67, 67, 65, 65, 65, 64, 64, 64, 64, 62, 62, 62, 62, 60, 129]\n"
     ]
    }
   ],
   "source": [
    "input_seq = encoder_input_data[0:1]\n",
    "decoded_sentence = decode_sequence(input_seq)\n",
    "print('-')\n",
    "print('Input sentence:', input_seq)\n",
    "print('Decoded sentence:', decoded_sentence)\n",
    "\n",
    "\n",
    "x = notes[:int(len(notes)*0.5)]\n",
    "y = notes[int(len(notes)*0.5):]\n",
    "from tools.encodeNotes import *\n",
    "p = decodeSequence(decoded_sentence, x + [music21.note.Rest(type='half')])\n",
    "#p.show()"
   ]
  },
  {
   "cell_type": "markdown",
   "metadata": {},
   "source": [
    "No let's have a look and play the piece. The first half (until the half Rest) is the input. The second haldf is generated by the network."
   ]
  },
  {
   "cell_type": "code",
   "execution_count": 23,
   "metadata": {},
   "outputs": [
    {
     "data": {
      "text/html": [
       "\n",
       "                <div id='midiPlayerDiv2389'></div>\n",
       "                <link rel=\"stylesheet\" href=\"//cuthbertLab.github.io/music21j/css/m21.css\"\n",
       "                    type=\"text/css\" />\n",
       "                <script>\n",
       "                require.config({\n",
       "                    paths: {'music21': '//cuthbertLab.github.io/music21j/src/music21'}\n",
       "                });\n",
       "                require(['music21'], function() {\n",
       "                               mp = new music21.miditools.MidiPlayer();\n",
       "                               mp.addPlayer('#midiPlayerDiv2389');\n",
       "                               mp.base64Load('data:audio/midi;base64,TVRoZAAAAAYAAQABBABNVHJrAAABEwD/AwAA4ABAAJA8WogAgDwAAJA+WogAgD4AAJBAWogAgEAAAJBBWogAgEEAAJBDWpAAgEMAAJBDWpAAgEMAAJBFWogAgEUAAJBFWogAgEUAAJBFWogAgEUAAJBFWogAgEUAAJBDWpAAgEMAAJBFWogAgEUAAJBFWogAgEUAkACQRVqIAIBFAACQRVqIAIBFAACQQ1qIAIBDAACQQ1qIAIBDAACQQVqIAIBBAACQQVqIAIBBAACQQVqIAIBBAACQQFqIAIBAAACQQFqIAIBAAACQQFqIAIBAAACQQFqIAIBAAACQPlqIAIA+AACQPlqIAIA+AACQPlqIAIA+AACQPlqIAIA+AACQPFqIAIA8AIgA/y8A');\n",
       "                        });\n",
       "                </script>"
      ],
      "text/plain": [
       "<IPython.core.display.HTML object>"
      ]
     },
     "metadata": {},
     "output_type": "execute_result"
    }
   ],
   "source": [
    "p.show('midi')\n",
    "#p.show()"
   ]
  },
  {
   "cell_type": "markdown",
   "metadata": {},
   "source": []
  }
 ],
 "metadata": {
  "kernelspec": {
   "display_name": "Python 3",
   "language": "python",
   "name": "python3"
  },
  "language_info": {
   "codemirror_mode": {
    "name": "ipython",
    "version": 3
   },
   "file_extension": ".py",
   "mimetype": "text/x-python",
   "name": "python",
   "nbconvert_exporter": "python",
   "pygments_lexer": "ipython3",
   "version": "3.6.8"
  }
 },
 "nbformat": 4,
 "nbformat_minor": 2
}
