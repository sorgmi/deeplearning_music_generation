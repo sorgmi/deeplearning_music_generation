{
 "cells": [
  {
   "cell_type": "code",
   "execution_count": 1,
   "metadata": {},
   "outputs": [],
   "source": [
    "import glob\n",
    "import math\n",
    "import random\n",
    "import time\n",
    "\n",
    "import music21\n",
    "from music21 import *\n",
    "import torch\n",
    "from torch import optim, nn\n",
    "\n",
    "from dataset import entchen\n",
    "from pytorchmodels.AttnDecoderRNN import AttnDecoderRNN\n",
    "from pytorchmodels.DecoderRNN import DecoderRNN\n",
    "from pytorchmodels.EncoderRNN import EncoderRNN\n",
    "from pytorchmodels.encoding import getStartIndex, getStopIndex, getTotalTokens, encodeNoteList, decodeSequence, \\\n",
    "    transposePart, getNoteList\n",
    "from pytorchmodels.inference import evaluate\n",
    "from pytorchmodels.training import train, trainIters"
   ]
  },
  {
   "cell_type": "code",
   "execution_count": 2,
   "metadata": {},
   "outputs": [],
   "source": [
    "def getPartByName(piece, filter=\"soprano\"):\n",
    "    for p in piece.parts:  # type: music21.stream.Part\n",
    "        if p.partName.lower() == filter.lower():\n",
    "            return p\n",
    "    return None\n",
    "\n",
    "def parseMXLfiles(files, filter=\"soprano\"):\n",
    "    #print(files)\n",
    "    notes = []\n",
    "    for f in files:\n",
    "        piece = converter.parse(f)\n",
    "        p = getPartByName(piece, filter)\n",
    "\n",
    "        if p is None:\n",
    "            print(\"no part found\", f, filter)\n",
    "            continue\n",
    "\n",
    "        #p.show()\n",
    "        #print(p.analyze('key'))\n",
    "        transposePart(p, inPlace=True)\n",
    "        #print(p.analyze('key'))\n",
    "        #p.show()\n",
    "        #quit()\n",
    "\n",
    "        if p is None:\n",
    "            print(\"no part found in\", f, \"with filter\", filter)\n",
    "\n",
    "        notes.append(getNoteList(p, transpose=False))\n",
    "\n",
    "    return notes"
   ]
  },
  {
   "cell_type": "code",
   "execution_count": 3,
   "metadata": {},
   "outputs": [],
   "source": [
    "def generateTrainingData(notes, delta, split):\n",
    "    max = 0\n",
    "    data = []\n",
    "    for n in notes:\n",
    "        splitIndex = int(len(n)*split)\n",
    "        x = n[0:splitIndex]\n",
    "        y = n[splitIndex:]\n",
    "        input = encodeNoteList(x,delta)\n",
    "        data.append( (input, encodeNoteList(y,delta)+ [getStopIndex()], x, y) )\n",
    "        if len(input) > max:\n",
    "            max = len(input)\n",
    "    return data, max"
   ]
  },
  {
   "cell_type": "code",
   "execution_count": 4,
   "metadata": {},
   "outputs": [
    {
     "name": "stdout",
     "output_type": "stream",
     "text": [
      "no part found C:/Users/sorgm/datasets/music21corpus/bach\\bwv171.6.mxl soprano\n",
      "no part found C:/Users/sorgm/datasets/music21corpus/bach\\bwv227.3.mxl soprano\n",
      "no part found C:/Users/sorgm/datasets/music21corpus/bach\\bwv27.6.mxl soprano\n",
      "no part found C:/Users/sorgm/datasets/music21corpus/bach\\bwv41.6.mxl soprano\n",
      "no part found C:/Users/sorgm/datasets/music21corpus/bach\\bwv846.mxl soprano\n"
     ]
    }
   ],
   "source": [
    "### Data preparation ###\n",
    "delta = 0.5\n",
    "splitFactor = 0.5\n",
    "\n",
    "files = glob.glob('C:/Users/sorgm/datasets/music21corpus/bach/bwv*.mxl')\n",
    "notes = parseMXLfiles(files)\n",
    "encodedNotes, MAX_LENGTH = generateTrainingData(notes, delta, splitFactor)\n",
    "#print(encodedNotes)\n",
    "print(\"loaded\", len(encodedNotes), \"training points\")"
   ]
  },
  {
   "cell_type": "code",
   "execution_count": 8,
   "metadata": {},
   "outputs": [
    {
     "name": "stdout",
     "output_type": "stream",
     "text": [
      "loaded 403 training points\n"
     ]
    }
   ],
   "source": [
    "print(\"loaded\", len(encodedNotes), \"training points\")\n",
    "\n",
    "train = encodedNotes[0:50]\n",
    "test = encodedNotes[50:100]\n",
    "encodedNotes = train"
   ]
  },
  {
   "cell_type": "code",
   "execution_count": 10,
   "metadata": {},
   "outputs": [
    {
     "name": "stdout",
     "output_type": "stream",
     "text": [
      "0m 0s (- -1m 59s) (0 0%) 0.5547\n",
      "0m 3s (- 0m 12s) (10 20%) 3.3525\n",
      "0m 5s (- 0m 8s) (20 40%) 2.3522\n",
      "0m 8s (- 0m 5s) (30 60%) 2.0545\n",
      "0m 11s (- 0m 2s) (40 80%) 1.5498\n",
      "Epoch 1  finished. Loss: 1.1540486761864195\n",
      "0m 14s (- -1m 45s) (0 0%) 1.5415\n",
      "0m 16s (- 1m 6s) (10 20%) 1.6204\n",
      "0m 19s (- 0m 28s) (20 40%) 1.8313\n",
      "0m 22s (- 0m 14s) (30 60%) 1.6201\n",
      "0m 24s (- 0m 6s) (40 80%) 1.5673\n",
      "Epoch 2  finished. Loss: 1.1707161436689661\n",
      "0m 27s (- -1m 32s) (0 0%) 1.4377\n",
      "0m 30s (- 2m 0s) (10 20%) 1.4387\n",
      "0m 33s (- 0m 49s) (20 40%) 1.6253\n",
      "0m 36s (- 0m 24s) (30 60%) 1.5533\n",
      "0m 38s (- 0m 9s) (40 80%) 1.4349\n",
      "Epoch 3  finished. Loss: 1.151336669921875\n",
      "0m 41s (- -1m 18s) (0 0%) 1.3623\n",
      "0m 43s (- 2m 55s) (10 20%) 1.4163\n",
      "0m 46s (- 1m 10s) (20 40%) 1.4244\n",
      "0m 50s (- 0m 33s) (30 60%) 1.3862\n",
      "0m 52s (- 0m 13s) (40 80%) 1.3821\n",
      "Epoch 4  finished. Loss: 1.0692932453561337\n",
      "0m 55s (- -1m 4s) (0 0%) 1.2519\n",
      "0m 58s (- 3m 53s) (10 20%) 1.2344\n",
      "1m 1s (- 1m 31s) (20 40%) 1.3380\n",
      "1m 4s (- 0m 42s) (30 60%) 1.3504\n",
      "1m 6s (- 0m 16s) (40 80%) 1.2846\n",
      "Epoch 5  finished. Loss: 1.0878286970422624\n",
      "1m 9s (- -2m 50s) (0 0%) 1.1967\n",
      "1m 11s (- 4m 47s) (10 20%) 1.1775\n",
      "1m 14s (- 1m 52s) (20 40%) 1.2505\n",
      "1m 17s (- 0m 51s) (30 60%) 1.3053\n",
      "1m 20s (- 0m 20s) (40 80%) 1.2636\n",
      "Epoch 6  finished. Loss: 1.076456110528175\n",
      "1m 23s (- -2m 36s) (0 0%) 1.1695\n",
      "1m 26s (- 5m 44s) (10 20%) 1.1423\n",
      "1m 28s (- 2m 13s) (20 40%) 1.2424\n",
      "1m 31s (- 1m 1s) (30 60%) 1.2701\n",
      "1m 34s (- 0m 23s) (40 80%) 1.2749\n",
      "Epoch 7  finished. Loss: 1.1134068103546793\n",
      "1m 36s (- -2m 23s) (0 0%) 1.1741\n",
      "1m 39s (- 6m 38s) (10 20%) 1.1879\n",
      "1m 42s (- 2m 33s) (20 40%) 1.2658\n",
      "1m 45s (- 1m 10s) (30 60%) 1.4340\n",
      "1m 48s (- 0m 27s) (40 80%) 1.4593\n",
      "Epoch 8  finished. Loss: 1.14549823517495\n",
      "1m 51s (- -2m 8s) (0 0%) 1.2493\n",
      "1m 53s (- 7m 35s) (10 20%) 1.1545\n",
      "1m 56s (- 2m 54s) (20 40%) 1.2526\n",
      "2m 0s (- 1m 20s) (30 60%) 1.3202\n",
      "2m 3s (- 0m 30s) (40 80%) 1.2699\n",
      "Epoch 9  finished. Loss: 1.2042343464303524\n",
      "2m 7s (- -3m 52s) (0 0%) 1.1736\n",
      "2m 9s (- 8m 39s) (10 20%) 1.1226\n",
      "2m 12s (- 3m 19s) (20 40%) 1.2680\n",
      "2m 15s (- 1m 30s) (30 60%) 1.3386\n",
      "2m 18s (- 0m 34s) (40 80%) 1.4929\n",
      "Epoch 10  finished. Loss: 1.1044568000955786\n"
     ]
    }
   ],
   "source": [
    "### Training ###\n",
    "device = torch.device(\"cuda\" if torch.cuda.is_available() else \"cpu\")\n",
    "hidden_size = 128\n",
    "encoder = EncoderRNN(getTotalTokens(), hidden_size).to(device)\n",
    "decoder = AttnDecoderRNN(hidden_size, getTotalTokens(), max_length=MAX_LENGTH, dropout_p=0.1).to(device)\n",
    "#decoder = DecoderRNN(hidden_size, getTotalTokens()).to(device)\n",
    "\n",
    "trainIters(encodedNotes, encoder, decoder, epochs=10, print_every=10, plot_every=2, max_length=MAX_LENGTH)\n"
   ]
  },
  {
   "cell_type": "code",
   "execution_count": 12,
   "metadata": {},
   "outputs": [],
   "source": [
    "torch.save(encoder, \"encoder.pt\")\n",
    "torch.save(decoder, \"decoder.pt\")"
   ]
  },
  {
   "cell_type": "code",
   "execution_count": 13,
   "metadata": {},
   "outputs": [
    {
     "name": "stdout",
     "output_type": "stream",
     "text": [
      "i: [67, 195, 67, 195, 69, 197, 69, 197, 71, 199, 71, 199, 72, 200, 200, 200, 74, 202, 74, 202, 72, 200, 72, 200, 71, 199, 69, 71, 72, 69, 197, 197, 197, 67, 195, 195, 195, 67, 195, 67, 195, 69, 197, 69, 197, 67, 195, 65, 193, 64, 192, 192, 192]\n",
      "d: [67, 195, 69, 71, 72, 200, 71, 199, 69, 197, 67, 195, 67, 195, 67, 195, 67, 195, 67, 195, 69, 197, 67, 195, 67, 195, 69, 197, 67, 195, 67, 195, 67, 195, 67, 195, 67, 195, 67, 195, 67, 195, 69, 197, 67, 195, 67, 195, 67, 195, 67, 195, 67, 195, 69, 197, 67, 195, 67, 195, 67, 195, 67, 195, 67, 195, 67, 195, 67, 195, 67, 195, 69, 197, 67, 195, 67, 195, 67, 195, 67, 195, 67, 195, 69, 197, 67, 195, 67, 195, 67, 195, 67, 195, 67, 195, 67, 195, 67, 195, 67, 195, 67, 195, 67, 195, 69, 197, 67, 195, 69, 197, 67, 195, 67, 195, 69, 197, 67, 195, 69, 197, 67, 195, 67, 195, 67, 195, 67, 195, 67, 195, 67, 195, 67, 195, 69, 197, 67, 195, 67, 195, 67, 195, 67, 195, 67, 195, 67, 195, 67, 195, 67, 195, 67, 195, 67, 195, 67, 195, 67, 195, 69, 197, 67, 195, 67, 195, 67, 195, 67, 195, 67, 195, 67, 195, 67, 195, 67, 195, 67, 195, 67, 195, 67, 195, 67, 195, 67, 195, 67, 195]\n",
      "t: [67, 195, 67, 195, 65, 193, 65, 193, 64, 192, 62, 64, 65, 62, 190, 190, 190, 60, 188, 188, 188, 72, 200, 72, 200, 71, 199, 71, 199, 69, 197, 69, 197, 67, 195, 195, 195, 67, 195, 67, 195, 65, 193, 64, 192, 62, 190, 62, 190, 60, 188, 188, 188, 257]\n"
     ]
    }
   ],
   "source": [
    "### Inference ###\n",
    "sampleIndex = 0\n",
    "pair = test[sampleIndex]\n",
    "input = pair[0]\n",
    "target = pair[1]\n",
    "\n",
    "decoded_words, decoder_attentions = evaluate(input, encoder, decoder, MAX_LENGTH)\n",
    "\n",
    "inputNotes = encodedNotes[sampleIndex]\n",
    "inputNotes = inputNotes[2]\n",
    "\n",
    "p, _ = decodeSequence(decoded_words, inputNotes, delta=delta)\n",
    "#p.show()\n",
    "\n",
    "print(\"i:\", input)\n",
    "print(\"d:\", decoded_words)\n",
    "print(\"t:\", target)\n"
   ]
  },
  {
   "cell_type": "code",
   "execution_count": 15,
   "metadata": {},
   "outputs": [],
   "source": [
    "p.show(\"mxl\")"
   ]
  },
  {
   "cell_type": "code",
   "execution_count": null,
   "metadata": {},
   "outputs": [],
   "source": []
  }
 ],
 "metadata": {
  "kernelspec": {
   "display_name": "Python (myenv)",
   "language": "python",
   "name": "myenv"
  },
  "language_info": {
   "codemirror_mode": {
    "name": "ipython",
    "version": 3
   },
   "file_extension": ".py",
   "mimetype": "text/x-python",
   "name": "python",
   "nbconvert_exporter": "python",
   "pygments_lexer": "ipython3",
   "version": "3.5.6"
  }
 },
 "nbformat": 4,
 "nbformat_minor": 2
}
